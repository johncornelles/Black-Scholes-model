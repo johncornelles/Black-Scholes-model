{
 "cells": [
  {
   "cell_type": "markdown",
   "metadata": {},
   "source": [
    "# 🧠 Black-Scholes Option Pricing Model – Full Notebook\n",
    "\n",
    "This notebook implements the Black-Scholes formula from scratch, including:\n",
    "- Formula for call & put options\n",
    "- Greeks\n",
    "- Dividend-adjusted pricing\n",
    "- Monte Carlo simulation\n",
    "- Implied volatility estimation\n",
    "- Visualization of pricing surface"
   ]
  },
  {
   "cell_type": "code",
   "execution_count": 13,
   "metadata": {},
   "outputs": [],
   "source": [
    "# 📌 Import Required Libraries\n",
    "import numpy as np\n",
    "from scipy.stats import norm\n",
    "from scipy.optimize import brentq\n",
    "import matplotlib.pyplot as plt"
   ]
  },
  {
   "cell_type": "code",
   "execution_count": 14,
   "metadata": {},
   "outputs": [],
   "source": [
    "# 🧮 Black-Scholes Pricing Function\n",
    "def black_scholes(S, K, T, r, sigma, option_type='call'):\n",
    "    d1 = (np.log(S / K) + (r + 0.5 * sigma**2)* T) / (sigma * np.sqrt(T))\n",
    "    d2 = d1 - sigma * np.sqrt(T)\n",
    "\n",
    "    if option_type == 'call':\n",
    "        price = S * norm.cdf(d1) - K * np.exp(-r * T) * norm.cdf(d2)\n",
    "    elif option_type == 'put':\n",
    "        price = K * np.exp(-r * T) * norm.cdf(-d2) - S * norm.cdf(-d1)\n",
    "    else:\n",
    "        raise ValueError(\"option_type must be 'call' or 'put'\")\n",
    "    return price"
   ]
  },
  {
   "cell_type": "code",
   "execution_count": 15,
   "metadata": {},
   "outputs": [
    {
     "name": "stdout",
     "output_type": "stream",
     "text": [
      "Call Option: 10.450583572185565\n",
      "Put Option: 5.573526022256971\n"
     ]
    }
   ],
   "source": [
    "# 🧪 Sample Inputs\n",
    "S = 100\n",
    "K = 100\n",
    "T = 1\n",
    "r = 0.05\n",
    "sigma = 0.2\n",
    "\n",
    "print(\"Call Option:\", black_scholes(S, K, T, r, sigma, 'call'))\n",
    "print(\"Put Option:\", black_scholes(S, K, T, r, sigma, 'put'))"
   ]
  },
  {
   "cell_type": "code",
   "execution_count": 16,
   "metadata": {},
   "outputs": [],
   "source": [
    "# 📈 Greeks Calculation\n",
    "def black_scholes_greeks(S, K, T, r, sigma, option_type='call'):\n",
    "    d1 = (np.log(S / K) + (r + 0.5 * sigma**2) * T) / (sigma * np.sqrt(T))\n",
    "    d2 = d1 - sigma * np.sqrt(T)\n",
    "\n",
    "    delta = norm.cdf(d1) if option_type == 'call' else norm.cdf(d1) - 1\n",
    "    gamma = norm.pdf(d1) / (S * sigma * np.sqrt(T))\n",
    "    vega  = S * norm.pdf(d1) * np.sqrt(T)\n",
    "    theta_call = (-S * norm.pdf(d1) * sigma / (2 * np.sqrt(T)) - r * K * np.exp(-r * T) * norm.cdf(d2))\n",
    "    theta_put = (-S * norm.pdf(d1) * sigma / (2 * np.sqrt(T)) + r * K * np.exp(-r * T) * norm.cdf(-d2))\n",
    "    theta = theta_call if option_type == 'call' else theta_put\n",
    "    rho_call = K * T * np.exp(-r * T) * norm.cdf(d2)\n",
    "    rho_put = -K * T * np.exp(-r * T) * norm.cdf(-d2)\n",
    "    rho = rho_call if option_type == 'call' else rho_put\n",
    "\n",
    "    return {\n",
    "        \"Delta\": delta,\n",
    "        \"Gamma\": gamma,\n",
    "        \"Vega\": vega / 100,\n",
    "        \"Theta\": theta / 365,\n",
    "        \"Rho\": rho / 100\n",
    "    }"
   ]
  },
  {
   "cell_type": "code",
   "execution_count": 17,
   "metadata": {},
   "outputs": [],
   "source": [
    "# 💸 Black-Scholes with Continuous Dividends\n",
    "def black_scholes_with_dividends(S, K, T, r, sigma, q=0.0, option_type='call'):\n",
    "    d1 = (np.log(S / K) + (r - q + 0.5 * sigma**2)* T) / (sigma * np.sqrt(T))\n",
    "    d2 = d1 - sigma * np.sqrt(T)\n",
    "\n",
    "    if option_type == 'call':\n",
    "        price = S * np.exp(-q*T) * norm.cdf(d1) - K * np.exp(-r*T) * norm.cdf(d2)\n",
    "    else:\n",
    "        price = K * np.exp(-r*T) * norm.cdf(-d2) - S * np.exp(-q*T) * norm.cdf(-d1)\n",
    "    return price"
   ]
  },
  {
   "cell_type": "code",
   "execution_count": 18,
   "metadata": {},
   "outputs": [],
   "source": [
    "# 🎲 Monte Carlo Simulation\n",
    "def monte_carlo_option_price(S, K, T, r, sigma, simulations=10000, option_type='call'):\n",
    "    np.random.seed(42)\n",
    "    Z = np.random.standard_normal(simulations)\n",
    "    ST = S * np.exp((r - 0.5 * sigma**2) * T + sigma * np.sqrt(T) * Z)\n",
    "\n",
    "    if option_type == 'call':\n",
    "        payoff = np.maximum(ST - K, 0)\n",
    "    else:\n",
    "        payoff = np.maximum(K - ST, 0)\n",
    "\n",
    "    return np.exp(-r * T) * np.mean(payoff)"
   ]
  },
  {
   "cell_type": "code",
   "execution_count": 19,
   "metadata": {},
   "outputs": [],
   "source": [
    "# 🔍 Implied Volatility\n",
    "def implied_volatility(target_price, S, K, T, r, option_type='call'):\n",
    "    def objective(sigma):\n",
    "        return black_scholes(S, K, T, r, sigma, option_type) - target_price\n",
    "    return brentq(objective, 1e-5, 3.0)"
   ]
  },
  {
   "cell_type": "code",
   "execution_count": 20,
   "metadata": {},
   "outputs": [
    {
     "name": "stdout",
     "output_type": "stream",
     "text": [
      "Delta: 0.6368\n",
      "Gamma: 0.0188\n",
      "Vega: 0.3752\n",
      "Theta: -0.0176\n",
      "Rho: 0.5323\n"
     ]
    }
   ],
   "source": [
    "greeks = black_scholes_greeks(S=100, K=100, T=1, r=0.05, sigma=0.2, option_type='call')\n",
    "for g, val in greeks.items():\n",
    "    print(f\"{g}: {val:.4f}\")\n"
   ]
  }
 ],
 "metadata": {
  "kernelspec": {
   "display_name": "Python 3",
   "language": "python",
   "name": "python3"
  },
  "language_info": {
   "codemirror_mode": {
    "name": "ipython",
    "version": 3
   },
   "file_extension": ".py",
   "mimetype": "text/x-python",
   "name": "python",
   "nbconvert_exporter": "python",
   "pygments_lexer": "ipython3",
   "version": "3.13.3"
  }
 },
 "nbformat": 4,
 "nbformat_minor": 2
}
